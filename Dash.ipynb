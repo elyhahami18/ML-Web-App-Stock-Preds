{
 "cells": [
  {
   "cell_type": "code",
   "execution_count": 3,
   "id": "ba03b4bc",
   "metadata": {},
   "outputs": [],
   "source": [
    "from jupyter_dash import JupyterDash"
   ]
  },
  {
   "cell_type": "code",
   "execution_count": 4,
   "id": "103f4063",
   "metadata": {},
   "outputs": [
    {
     "name": "stderr",
     "output_type": "stream",
     "text": [
      "/var/folders/6p/z28pxg2n62b7gpb5rhnck_2h0000gn/T/ipykernel_10536/1030279162.py:2: UserWarning: \n",
      "The dash_core_components package is deprecated. Please replace\n",
      "`import dash_core_components as dcc` with `from dash import dcc`\n",
      "  import dash_core_components as dcc\n",
      "/var/folders/6p/z28pxg2n62b7gpb5rhnck_2h0000gn/T/ipykernel_10536/1030279162.py:3: UserWarning: \n",
      "The dash_html_components package is deprecated. Please replace\n",
      "`import dash_html_components as html` with `from dash import html`\n",
      "  import dash_html_components as html\n"
     ]
    }
   ],
   "source": [
    "import dash\n",
    "import dash_core_components as dcc\n",
    "import dash_html_components as html\n",
    "import pandas as pd\n",
    "import plotly.express as px\n",
    "from jupyter_dash import JupyterDash \n",
    "from dash.dependencies import Input, Output"
   ]
  },
  {
   "cell_type": "code",
   "execution_count": 7,
   "id": "3ec7d1ca",
   "metadata": {},
   "outputs": [],
   "source": [
    "import yfinance as yf"
   ]
  },
  {
   "cell_type": "code",
   "execution_count": 24,
   "id": "2c1c5288",
   "metadata": {},
   "outputs": [],
   "source": [
    "import plotly.graph_objects as go\n",
    "from datetime import date, timedelta\n",
    "###STOCK INPUT MUST BE STRING\n",
    "def stock_prices(stock):\n",
    "    today = date.today()\n",
    "#strftime() method returns a string representing date and time using date, time or datetime object.\n",
    "#strftime() method returns a string representing date and time using date, time or datetime object.\n",
    "    d1 = today.strftime(\"%Y-%m-%d\")\n",
    "    end_date = d1\n",
    "    d2 = date.today() - timedelta(days=365) ## NVDA \n",
    "    d2 = d2.strftime(\"%Y-%m-%d\")\n",
    "    start_date = d2\n",
    "\n",
    "    df = yf.download(stock, \n",
    "                      start=start_date, \n",
    "                      end=end_date, \n",
    "                      progress=False)\n",
    "    df[\"Date\"] = df.index\n",
    "    df = df[[\"Date\", \"Open\", \"High\", \"Low\", \"Close\", \"Adj Close\", \"Volume\"]]\n",
    "    df.reset_index(drop=True, inplace=True)\n",
    "    \n",
    "    fig = go.Figure(data=[go.Candlestick(x=df['Date'],\n",
    "                    open=df['Open'],\n",
    "                    high=df['High'],\n",
    "                    low=df['Low'],\n",
    "                    close=df['Close'])])\n",
    "\n",
    "    fig.update_layout(\n",
    "        title=f'{stock} Candlestick Chart: Interact with the Plot by Dragging the Range Slider at the Bottom.',\n",
    "        yaxis_title=f'{stock} Stock',\n",
    "        shapes = [dict(\n",
    "            x0='2023-5-23', x1='2023-5-23', y0=0, y1=1, xref='x', yref='paper',\n",
    "            line_width=2)],\n",
    "        annotations=[dict(\n",
    "            x='2023-5-23', y=0.05, xref='x', yref='paper',\n",
    "            showarrow=False, xanchor='left', text='AI Bubble Arguably Starts Here')]\n",
    "    )\n",
    "\n",
    "    return fig\n",
    "##test case below:\n",
    "# stock_prices('AAPL')"
   ]
  },
  {
   "cell_type": "code",
   "execution_count": 14,
   "id": "5196354e",
   "metadata": {},
   "outputs": [],
   "source": [
    "import dash_table"
   ]
  },
  {
   "cell_type": "code",
   "execution_count": 34,
   "id": "c913160d",
   "metadata": {},
   "outputs": [
    {
     "name": "stdout",
     "output_type": "stream",
     "text": [
      "Dash is running on http://127.0.0.1:8050/\n",
      "\n"
     ]
    },
    {
     "data": {
      "text/html": [
       "\n",
       "        <iframe\n",
       "            width=\"100%\"\n",
       "            height=\"650\"\n",
       "            src=\"http://127.0.0.1:8050/\"\n",
       "            frameborder=\"0\"\n",
       "            allowfullscreen\n",
       "            \n",
       "        ></iframe>\n",
       "        "
      ],
      "text/plain": [
       "<IPython.lib.display.IFrame at 0x7fccd00bcac0>"
      ]
     },
     "metadata": {},
     "output_type": "display_data"
    }
   ],
   "source": [
    "# Build App\n",
    "app = JupyterDash(__name__)\n",
    "app.layout = html.Div(id = 'parent', style={'text-align': 'left'},children = [\n",
    "    html.H1(id = 'H1', children = 'Stock Price Analysis: Historic Returns & Predictions/Forecasts using ML Time Series Analysis', style = {'textAlign':'center',\\\n",
    "                                            'marginTop':20,'marginBottom':20}),\n",
    "    html.P(\n",
    "            children=(\n",
    "                \"This web application was created by Ely Hahami on June 19th, 2023 using Python Dash -- an open-source framework for building data visualization interfaces. This web app can be opened throughout the trading week of 6/19-6/23 to check the ML model accuracy via analyzing discrepancies in predicted/forecasted price versus actual market price.\"\n",
    "            ),\n",
    "        ),\n",
    "    dcc.Dropdown(\n",
    "        id='stock-dropdown',\n",
    "        options=[\n",
    "            {'label': 'NVDA', 'value': 'NVDA'},\n",
    "            {'label': 'AAPL', 'value': 'AAPL'},\n",
    "            {'label': 'GOOG', 'value': 'GOOG'}\n",
    "        ],\n",
    "        value='NVDA'  # Set the default value\n",
    "    ),html.Div(id='candlestick-chart'),  html.Div(id='forecast-table-container'),\n",
    "    html.P(\n",
    "            children=(\n",
    "                \"The automatic time series (autots) model had the following hyperparameters: forecast_length = 5, frequency = 'infer', prediction_interval = 0.95, num_validations = 3, model_list = 'univariate', no_negatives = True, max_generations = 10, ensemble= 'simple')\"\n",
    "            ),\n",
    "        )\n",
    "\n",
    "\n",
    "        \n",
    "#         dcc.Graph(id = 'line_plot', figure = stock_prices()), html.Div(id='forecast-table')    \n",
    "    ]\n",
    "                     )\n",
    "\n",
    "\n",
    "@app.callback(\n",
    "    Output('candlestick-chart', 'children'),\n",
    "    Input('stock-dropdown', 'value')\n",
    ")\n",
    "\n",
    "\n",
    "def update_candlestick_chart(selected_stock):\n",
    "    # Replace this with your actual code to generate the candlestick chart for the selected stock\n",
    "    figure = stock_prices(selected_stock)\n",
    "    \n",
    "    # Create a Plotly Graph object to display the candlestick chart\n",
    "    graph = dcc.Graph(figure=figure)\n",
    "    \n",
    "    return graph\n",
    "\n",
    "\n",
    "def generate_forecast_table(dataframe):\n",
    "    table = dash_table.DataTable(\n",
    "        id='forecast-table',\n",
    "        columns=[{\"name\": col, \"id\": col} for col in dataframe.columns],\n",
    "        data=dataframe.to_dict('records'),\n",
    "        style_table={'overflowX': 'scroll'}\n",
    "    )\n",
    "    \n",
    "    return table\n",
    "\n",
    "\n",
    "@app.callback(\n",
    "    Output('forecast-table-container', 'children'),\n",
    "    Input('stock-dropdown', 'value')\n",
    ")\n",
    "\n",
    "def update_forecast_table(selected_stock):\n",
    "    # Replace this with your actual code to generate the forecast DataFrame\n",
    "    #forecast table depends on the selected_stock and will display correspondingly to the user's selection\n",
    "    #via the dropdown (dcc.Dropdown()) defined above!\n",
    "    date_list = ['2023-06-19', '2023-06-20', '2023-06-21', '2023-06-22',\n",
    "                   '2023-06-23']\n",
    "    if selected_stock == 'NVDA':\n",
    "        \n",
    "        forecast = pd.DataFrame({\n",
    "            'Date': date_list,\n",
    "            'Forecast': [423.688850, 422.148223, 427.096333, 427.405782, 429.621224]\n",
    "        })\n",
    "    \n",
    "    elif selected_stock == 'AAPL':\n",
    "        forecast = pd.DataFrame({\n",
    "            'Date': date_list,\n",
    "            'Forecast': [185.948168, 186.170348, 186.755310, 187.459407, 188.451410]\n",
    "        })\n",
    "        \n",
    "        \n",
    "    elif selected_stock == 'GOOG':\n",
    "        forecast = pd.DataFrame({\n",
    "            'Date': date_list,\n",
    "            'Forecast': [124.664999, 124.710461, 124.594352, 124.801391, 124.730978]\n",
    "        })\n",
    "        \n",
    "    # Generate the forecast table HTML\n",
    "    forecast_table = generate_forecast_table(forecast)\n",
    "    \n",
    "    # Return the updated forecast table\n",
    "    return forecast_table\n",
    "\n",
    "\n",
    "\n",
    "\n",
    "if __name__ == '__main__':\n",
    "    app.run_server(mode='inline')\n",
    "\n",
    "\n",
    "# app.run_server(mode='inline')\n",
    "##do NDVA & AAPL stock price predictions with a dropdown with candlestick chart and image of predictions, \n",
    "##then graph of candlestick with the DataFrame of the predictions"
   ]
  },
  {
   "cell_type": "markdown",
   "id": "a84553ce",
   "metadata": {},
   "source": [
    "Perhaps add the function as an image to learn how to incorporate adding images to web app. Also add HTML text to describe ML model text. "
   ]
  },
  {
   "cell_type": "code",
   "execution_count": 1,
   "id": "9b1a9a39",
   "metadata": {},
   "outputs": [
    {
     "data": {
      "text/plain": [
       "'/Users/elyhahami/Dropbox/Hahami, Eli - APy/Neural Networks'"
      ]
     },
     "execution_count": 1,
     "metadata": {},
     "output_type": "execute_result"
    }
   ],
   "source": [
    "import os\n",
    "os.path.abspath(\"\")"
   ]
  }
 ],
 "metadata": {
  "kernelspec": {
   "display_name": "Python 3 (ipykernel)",
   "language": "python",
   "name": "python3"
  },
  "language_info": {
   "codemirror_mode": {
    "name": "ipython",
    "version": 3
   },
   "file_extension": ".py",
   "mimetype": "text/x-python",
   "name": "python",
   "nbconvert_exporter": "python",
   "pygments_lexer": "ipython3",
   "version": "3.9.16"
  }
 },
 "nbformat": 4,
 "nbformat_minor": 5
}
